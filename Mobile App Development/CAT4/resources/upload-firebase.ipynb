{
 "cells": [
  {
   "cell_type": "code",
   "execution_count": 10,
   "metadata": {},
   "outputs": [
    {
     "name": "stdout",
     "output_type": "stream",
     "text": [
      "✅ Subido: Select the incorrect feature of mobile devices\n",
      "✅ Subido: A wireless device is one that can communicate...\n",
      "✅ Subido: Which category of device is not considered mobile?\n",
      "✅ Subido: Which operating system does Samsung use for some of its wearable devices?\n",
      "✅ Subido: What is the latest available version of the Android operating system?\n",
      "✅ Subido: A web application is...\n",
      "🚀 Todos los items fueron subidos exitosamente.\n"
     ]
    }
   ],
   "source": [
    "from google.cloud import firestore\n",
    "import json\n",
    "\n",
    "# 1. Inicializar conexión con Firestore usando Service Account\n",
    "from google.oauth2 import service_account\n",
    "credentials = service_account.Credentials.from_service_account_file('serviceAccountKey.json')\n",
    "db = firestore.Client(credentials=credentials)\n",
    "\n",
    "# 2. Cargar el data.json\n",
    "with open('data.json', 'r') as f:\n",
    "    items = json.load(f)\n",
    "\n",
    "# 3. Insertar cada item\n",
    "for item in items:\n",
    "    db.collection('item').add(item)\n",
    "    print(f\"✅ Subido: {item['item_question']}\")\n",
    "\n",
    "print(\"🚀 Todos los items fueron subidos exitosamente.\")"
   ]
  },
  {
   "cell_type": "code",
   "execution_count": null,
   "metadata": {},
   "outputs": [],
   "source": []
  }
 ],
 "metadata": {
  "kernelspec": {
   "display_name": "Python 3",
   "language": "python",
   "name": "python3"
  },
  "language_info": {
   "codemirror_mode": {
    "name": "ipython",
    "version": 3
   },
   "file_extension": ".py",
   "mimetype": "text/x-python",
   "name": "python",
   "nbconvert_exporter": "python",
   "pygments_lexer": "ipython3",
   "version": "3.8.3"
  }
 },
 "nbformat": 4,
 "nbformat_minor": 4
}
